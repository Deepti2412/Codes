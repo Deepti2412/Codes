{
  "nbformat": 4,
  "nbformat_minor": 0,
  "metadata": {
    "colab": {
      "name": "Chatbot.ipynb",
      "provenance": [],
      "authorship_tag": "ABX9TyOkmHKDAusJKm5rtqq9P6mE",
      "include_colab_link": true
    },
    "kernelspec": {
      "name": "python3",
      "display_name": "Python 3"
    }
  },
  "cells": [
    {
      "cell_type": "markdown",
      "metadata": {
        "id": "view-in-github",
        "colab_type": "text"
      },
      "source": [
        "<a href=\"https://colab.research.google.com/github/Deepti2412/Codes/blob/master/Chatbot.ipynb\" target=\"_parent\"><img src=\"https://colab.research.google.com/assets/colab-badge.svg\" alt=\"Open In Colab\"/></a>"
      ]
    },
    {
      "cell_type": "code",
      "metadata": {
        "id": "m3JDhfdd5oA2",
        "colab_type": "code",
        "colab": {}
      },
      "source": [
        "import pickle\n",
        "import numpy as np"
      ],
      "execution_count": 1,
      "outputs": []
    },
    {
      "cell_type": "code",
      "metadata": {
        "id": "kT7OpWfM6WDB",
        "colab_type": "code",
        "colab": {}
      },
      "source": [
        "with open('/content/train_qa.txt','rb') as f:\n",
        "      train_data=pickle.load(f)"
      ],
      "execution_count": 2,
      "outputs": []
    },
    {
      "cell_type": "code",
      "metadata": {
        "id": "lr9Qt5BF69eh",
        "colab_type": "code",
        "colab": {}
      },
      "source": [
        "with open('/content/test_qa.txt','rb') as f:\n",
        "      test_data=pickle.load(f)"
      ],
      "execution_count": 3,
      "outputs": []
    },
    {
      "cell_type": "code",
      "metadata": {
        "id": "pdz-Pv967B0l",
        "colab_type": "code",
        "colab": {
          "base_uri": "https://localhost:8080/",
          "height": 34
        },
        "outputId": "4764fa54-cef7-49f8-813e-a4a0f6825e86"
      },
      "source": [
        "type(train_data)"
      ],
      "execution_count": 4,
      "outputs": [
        {
          "output_type": "execute_result",
          "data": {
            "text/plain": [
              "list"
            ]
          },
          "metadata": {
            "tags": []
          },
          "execution_count": 4
        }
      ]
    },
    {
      "cell_type": "code",
      "metadata": {
        "id": "UoJyM0lU7Dgz",
        "colab_type": "code",
        "colab": {
          "base_uri": "https://localhost:8080/",
          "height": 34
        },
        "outputId": "d5d99d92-571f-4a6f-b280-c55674fe1985"
      },
      "source": [
        "len(train_data)"
      ],
      "execution_count": 5,
      "outputs": [
        {
          "output_type": "execute_result",
          "data": {
            "text/plain": [
              "10000"
            ]
          },
          "metadata": {
            "tags": []
          },
          "execution_count": 5
        }
      ]
    },
    {
      "cell_type": "code",
      "metadata": {
        "id": "_awH0skK7Koc",
        "colab_type": "code",
        "colab": {
          "base_uri": "https://localhost:8080/",
          "height": 34
        },
        "outputId": "39ab7ec5-b662-4ebb-c5f2-11ecb806fb85"
      },
      "source": [
        "len(test_data)"
      ],
      "execution_count": 6,
      "outputs": [
        {
          "output_type": "execute_result",
          "data": {
            "text/plain": [
              "1000"
            ]
          },
          "metadata": {
            "tags": []
          },
          "execution_count": 6
        }
      ]
    },
    {
      "cell_type": "code",
      "metadata": {
        "id": "FYpNcdAw7ML2",
        "colab_type": "code",
        "colab": {
          "base_uri": "https://localhost:8080/",
          "height": 34
        },
        "outputId": "f3b26f43-4be9-41f3-c190-f533c04f9ce6"
      },
      "source": [
        "' '.join(train_data[0][1])"
      ],
      "execution_count": 7,
      "outputs": [
        {
          "output_type": "execute_result",
          "data": {
            "text/plain": [
              "'Is Sandra in the hallway ?'"
            ]
          },
          "metadata": {
            "tags": []
          },
          "execution_count": 7
        }
      ]
    },
    {
      "cell_type": "markdown",
      "metadata": {
        "id": "u--yLr677uGu",
        "colab_type": "text"
      },
      "source": [
        "#Creating a vocabulary"
      ]
    },
    {
      "cell_type": "code",
      "metadata": {
        "id": "VdOjbzJV7OBE",
        "colab_type": "code",
        "colab": {}
      },
      "source": [
        "all_data=test_data + train_data"
      ],
      "execution_count": 8,
      "outputs": []
    },
    {
      "cell_type": "code",
      "metadata": {
        "id": "dNOnoGNL72Vg",
        "colab_type": "code",
        "colab": {
          "base_uri": "https://localhost:8080/",
          "height": 34
        },
        "outputId": "2f097bf8-48de-4a82-e6fe-6b443a8389fe"
      },
      "source": [
        "len(all_data)"
      ],
      "execution_count": 9,
      "outputs": [
        {
          "output_type": "execute_result",
          "data": {
            "text/plain": [
              "11000"
            ]
          },
          "metadata": {
            "tags": []
          },
          "execution_count": 9
        }
      ]
    },
    {
      "cell_type": "code",
      "metadata": {
        "id": "F9Py0F0W7781",
        "colab_type": "code",
        "colab": {}
      },
      "source": [
        "vocab=set()\n",
        "for story,question,answer in all_data:\n",
        "  vocab=vocab.union(set(story))\n",
        "  vocab=vocab.union(set(question))\n",
        "  \n"
      ],
      "execution_count": 10,
      "outputs": []
    },
    {
      "cell_type": "code",
      "metadata": {
        "id": "cd2vmPU880h1",
        "colab_type": "code",
        "colab": {}
      },
      "source": [
        "vocab.add('no')\n",
        "\n",
        "vocab.add('yes')"
      ],
      "execution_count": 11,
      "outputs": []
    },
    {
      "cell_type": "code",
      "metadata": {
        "id": "xLpHywnA839I",
        "colab_type": "code",
        "colab": {}
      },
      "source": [
        "vocab_len=len(vocab) + 1"
      ],
      "execution_count": 12,
      "outputs": []
    },
    {
      "cell_type": "code",
      "metadata": {
        "id": "uXM10kJl88yS",
        "colab_type": "code",
        "colab": {
          "base_uri": "https://localhost:8080/",
          "height": 34
        },
        "outputId": "be8d01bf-a334-49aa-8d42-e31a680114ed"
      },
      "source": [
        "vocab_len"
      ],
      "execution_count": 13,
      "outputs": [
        {
          "output_type": "execute_result",
          "data": {
            "text/plain": [
              "38"
            ]
          },
          "metadata": {
            "tags": []
          },
          "execution_count": 13
        }
      ]
    },
    {
      "cell_type": "code",
      "metadata": {
        "id": "ur5ce8qV9bsR",
        "colab_type": "code",
        "colab": {}
      },
      "source": [
        "all_story_lens=[len(data[0]) for data in all_data]"
      ],
      "execution_count": 14,
      "outputs": []
    },
    {
      "cell_type": "code",
      "metadata": {
        "id": "h9CJusqR90fE",
        "colab_type": "code",
        "colab": {}
      },
      "source": [
        "max_story_len=max(all_story_lens)"
      ],
      "execution_count": 15,
      "outputs": []
    },
    {
      "cell_type": "code",
      "metadata": {
        "id": "Ch0i_uHD98_w",
        "colab_type": "code",
        "colab": {}
      },
      "source": [
        "max_question_len=max([len(data[1]) for data in all_data])"
      ],
      "execution_count": 27,
      "outputs": []
    },
    {
      "cell_type": "code",
      "metadata": {
        "id": "bw6vjNzd-Md9",
        "colab_type": "code",
        "colab": {
          "base_uri": "https://localhost:8080/",
          "height": 34
        },
        "outputId": "00d6d9c0-8140-48f6-edc9-2824627abc42"
      },
      "source": [
        "max_question_len"
      ],
      "execution_count": 28,
      "outputs": [
        {
          "output_type": "execute_result",
          "data": {
            "text/plain": [
              "6"
            ]
          },
          "metadata": {
            "tags": []
          },
          "execution_count": 28
        }
      ]
    },
    {
      "cell_type": "code",
      "metadata": {
        "id": "7oWGML8j-SRk",
        "colab_type": "code",
        "colab": {
          "base_uri": "https://localhost:8080/",
          "height": 34
        },
        "outputId": "b765004f-ef8a-47a5-a9ba-4d5e94b87384"
      },
      "source": [
        "from keras.preprocessing.sequence import pad_sequences\n",
        "from keras.preprocessing.text import Tokenizer"
      ],
      "execution_count": 18,
      "outputs": [
        {
          "output_type": "stream",
          "text": [
            "Using TensorFlow backend.\n"
          ],
          "name": "stderr"
        }
      ]
    },
    {
      "cell_type": "code",
      "metadata": {
        "id": "EGfZBCB8-syI",
        "colab_type": "code",
        "colab": {}
      },
      "source": [
        "tokenizer=Tokenizer(filters=[])\n",
        "tokenizer.fit_on_texts(vocab)"
      ],
      "execution_count": 19,
      "outputs": []
    },
    {
      "cell_type": "code",
      "metadata": {
        "id": "pfsZie-9-5oI",
        "colab_type": "code",
        "colab": {}
      },
      "source": [
        "tokenizer.word_index"
      ],
      "execution_count": null,
      "outputs": []
    },
    {
      "cell_type": "code",
      "metadata": {
        "id": "xwt_EEoS-7uw",
        "colab_type": "code",
        "colab": {}
      },
      "source": [
        "train_story_text=[]\n",
        "train_question_text=[]\n",
        "train_answer_text=[]\n",
        "\n",
        "for story,question,answer in train_data:\n",
        "  train_story_text.append(story)\n",
        "  train_question_text.append(question)\n",
        "  train_answer_text.append(answer)"
      ],
      "execution_count": 21,
      "outputs": []
    },
    {
      "cell_type": "code",
      "metadata": {
        "id": "ZcYNiwEh_g8T",
        "colab_type": "code",
        "colab": {}
      },
      "source": [
        "train_story_seq=tokenizer.texts_to_sequences(train_story_text)"
      ],
      "execution_count": 22,
      "outputs": []
    },
    {
      "cell_type": "code",
      "metadata": {
        "id": "Fck6ULRW_lA9",
        "colab_type": "code",
        "colab": {}
      },
      "source": [
        "def vectorize_stories(data,word_index=tokenizer.word_index,max_story_len=max_story_len,max_question_len=max_question_len):\n",
        "  #Stories X\n",
        "  X=[]\n",
        "  #Question\n",
        "  Xq=[]\n",
        "  #answers\n",
        "  Y=[]\n",
        "  for story,query,answer in data:\n",
        "    x=[word_index[word.lower()] for word in story]\n",
        "    xq=[word_index[word.lower()] for word in query]\n",
        "    y=np.zeros(len(word_index)+1)\n",
        "    y[word_index[answer]]=1\n",
        "    X.append(x)\n",
        "    Xq.append(xq)\n",
        "    Y.append(y)\n",
        "  return (pad_sequences(X,maxlen=max_story_len),(pad_sequences(Xq,maxlen=max_question_length)),(np.array(Y)))"
      ],
      "execution_count": 35,
      "outputs": []
    },
    {
      "cell_type": "code",
      "metadata": {
        "id": "KhWvGQ0hACzc",
        "colab_type": "code",
        "colab": {}
      },
      "source": [
        "inputs_train, queries_train, answers_train = vectorize_stories(train_data)"
      ],
      "execution_count": 38,
      "outputs": []
    },
    {
      "cell_type": "code",
      "metadata": {
        "id": "xn469qR2CGnc",
        "colab_type": "code",
        "colab": {
          "base_uri": "https://localhost:8080/",
          "height": 370
        },
        "outputId": "2ecd9997-eb82-401b-dc6b-466e723ac011"
      },
      "source": [
        "inputs_train,queries_train, answers_train"
      ],
      "execution_count": 39,
      "outputs": [
        {
          "output_type": "execute_result",
          "data": {
            "text/plain": [
              "(array([[ 0,  0,  0, ..., 31, 26, 37],\n",
              "        [ 0,  0,  0, ..., 31, 25, 37],\n",
              "        [ 0,  0,  0, ..., 31,  8, 37],\n",
              "        ...,\n",
              "        [ 0,  0,  0, ..., 31, 26, 37],\n",
              "        [ 0,  0,  0, ..., 13, 28, 37],\n",
              "        [ 0,  0,  0, ...,  5, 28, 37]], dtype=int32),\n",
              " array([[32, 34, 36, 31, 25, 16],\n",
              "        [32, 12, 36, 31,  8, 16],\n",
              "        [32, 12, 36, 31, 27, 16],\n",
              "        ...,\n",
              "        [32, 34, 36, 31, 25, 16],\n",
              "        [32, 22, 36, 31,  2, 16],\n",
              "        [32, 22, 36, 31, 26, 16]], dtype=int32),\n",
              " array([[0., 0., 0., ..., 0., 0., 0.],\n",
              "        [0., 0., 0., ..., 0., 0., 0.],\n",
              "        [0., 0., 0., ..., 0., 0., 0.],\n",
              "        ...,\n",
              "        [0., 0., 0., ..., 0., 0., 0.],\n",
              "        [0., 0., 0., ..., 0., 0., 0.],\n",
              "        [0., 1., 0., ..., 0., 0., 0.]]))"
            ]
          },
          "metadata": {
            "tags": []
          },
          "execution_count": 39
        }
      ]
    },
    {
      "cell_type": "code",
      "metadata": {
        "id": "HkkJYtWeEnvj",
        "colab_type": "code",
        "colab": {}
      },
      "source": [
        "inputs_test, queries_test, answers_test = vectorize_stories(test_data)"
      ],
      "execution_count": 40,
      "outputs": []
    },
    {
      "cell_type": "code",
      "metadata": {
        "id": "_sdHqWvBE5FA",
        "colab_type": "code",
        "colab": {}
      },
      "source": [
        "from keras.models import Sequential, Model\n",
        "from keras.layers.embeddings import Embedding\n",
        "from keras.layers import Input, Activation, Dense, Permute, Dropout\n",
        "from keras.layers import add, dot, concatenate\n",
        "from keras.layers import LSTM"
      ],
      "execution_count": 41,
      "outputs": []
    },
    {
      "cell_type": "code",
      "metadata": {
        "id": "qUBODJbzMrbc",
        "colab_type": "code",
        "colab": {}
      },
      "source": [
        "input_sequence = Input((max_story_len,))\n",
        "question = Input((max_question_len,))"
      ],
      "execution_count": 42,
      "outputs": []
    },
    {
      "cell_type": "code",
      "metadata": {
        "id": "T2uW_6VEM1QV",
        "colab_type": "code",
        "colab": {}
      },
      "source": [
        "vocab_size=vocab_len"
      ],
      "execution_count": 44,
      "outputs": []
    },
    {
      "cell_type": "code",
      "metadata": {
        "id": "u3ijxMxrMs4g",
        "colab_type": "code",
        "colab": {}
      },
      "source": [
        "# Input gets embedded to a sequence of vectors\n",
        "input_encoder_m = Sequential()\n",
        "input_encoder_m.add(Embedding(input_dim=vocab_size,output_dim=64))\n",
        "input_encoder_m.add(Dropout(0.3))\n",
        "\n",
        "# This encoder will output:\n",
        "# (samples, story_maxlen, embedding_dim)"
      ],
      "execution_count": 45,
      "outputs": []
    },
    {
      "cell_type": "code",
      "metadata": {
        "id": "j0ks44-rMurn",
        "colab_type": "code",
        "colab": {}
      },
      "source": [
        "input_encoder_c = Sequential()\n",
        "input_encoder_c.add(Embedding(input_dim=vocab_size,output_dim=max_question_len))\n",
        "input_encoder_c.add(Dropout(0.3))"
      ],
      "execution_count": 46,
      "outputs": []
    },
    {
      "cell_type": "code",
      "metadata": {
        "id": "Q0f9LV_UM8YE",
        "colab_type": "code",
        "colab": {}
      },
      "source": [
        "question_encoder = Sequential()\n",
        "question_encoder.add(Embedding(input_dim=vocab_size,\n",
        "                               output_dim=64,\n",
        "                               input_length=max_question_len))\n",
        "question_encoder.add(Dropout(0.3))"
      ],
      "execution_count": 47,
      "outputs": []
    },
    {
      "cell_type": "code",
      "metadata": {
        "id": "Iu5jS7dtNCCq",
        "colab_type": "code",
        "colab": {}
      },
      "source": [
        "input_encoded_m = input_encoder_m(input_sequence)\n",
        "input_encoded_c = input_encoder_c(input_sequence)\n",
        "question_encoded = question_encoder(question)"
      ],
      "execution_count": 48,
      "outputs": []
    },
    {
      "cell_type": "code",
      "metadata": {
        "id": "QCEDNlciNEc-",
        "colab_type": "code",
        "colab": {}
      },
      "source": [
        "match = dot([input_encoded_m, question_encoded], axes=(2, 2))\n",
        "match = Activation('softmax')(match)"
      ],
      "execution_count": 49,
      "outputs": []
    },
    {
      "cell_type": "code",
      "metadata": {
        "id": "voXiKB5cNGOU",
        "colab_type": "code",
        "colab": {}
      },
      "source": [
        "response = add([match, input_encoded_c])  # (samples, story_maxlen, query_maxlen)\n",
        "response = Permute((2, 1))(response)  # (samples, query_maxlen, story_maxlen)"
      ],
      "execution_count": 50,
      "outputs": []
    },
    {
      "cell_type": "code",
      "metadata": {
        "id": "SnEuZhCSNH-U",
        "colab_type": "code",
        "colab": {}
      },
      "source": [
        "answer = concatenate([response, question_encoded])"
      ],
      "execution_count": 51,
      "outputs": []
    },
    {
      "cell_type": "code",
      "metadata": {
        "id": "c3quZA5HNJq3",
        "colab_type": "code",
        "colab": {
          "base_uri": "https://localhost:8080/",
          "height": 34
        },
        "outputId": "74fa6e5b-91b9-4286-ae6f-613839ca1bcc"
      },
      "source": [
        "answer"
      ],
      "execution_count": 54,
      "outputs": [
        {
          "output_type": "execute_result",
          "data": {
            "text/plain": [
              "<tf.Tensor 'lstm_1/strided_slice_18:0' shape=(None, 32) dtype=float32>"
            ]
          },
          "metadata": {
            "tags": []
          },
          "execution_count": 54
        }
      ]
    },
    {
      "cell_type": "code",
      "metadata": {
        "id": "20m8xfA6NLbN",
        "colab_type": "code",
        "colab": {}
      },
      "source": [
        "answer = LSTM(32)(answer)  # (samples, 32)"
      ],
      "execution_count": 53,
      "outputs": []
    },
    {
      "cell_type": "code",
      "metadata": {
        "id": "3ky5Z5PkNNam",
        "colab_type": "code",
        "colab": {}
      },
      "source": [
        "answer = Dropout(0.5)(answer)\n",
        "answer = Dense(vocab_size)(answer)  # (samples, vocab_size)"
      ],
      "execution_count": 55,
      "outputs": []
    },
    {
      "cell_type": "code",
      "metadata": {
        "id": "WJtAxqz8NQHJ",
        "colab_type": "code",
        "colab": {}
      },
      "source": [
        "answer = Activation('softmax')(answer)\n",
        "\n",
        "# build the final model\n",
        "model = Model([input_sequence, question], answer)\n",
        "model.compile(optimizer='rmsprop', loss='categorical_crossentropy',\n",
        "              metrics=['accuracy'])"
      ],
      "execution_count": 56,
      "outputs": []
    },
    {
      "cell_type": "code",
      "metadata": {
        "id": "b1gD_P-gNSil",
        "colab_type": "code",
        "colab": {
          "base_uri": "https://localhost:8080/",
          "height": 1000
        },
        "outputId": "34178076-386f-4264-c14a-7309c4a42995"
      },
      "source": [
        "# train\n",
        "history = model.fit([inputs_train, queries_train], answers_train,batch_size=32,epochs=120,validation_data=([inputs_test, queries_test], answers_test))"
      ],
      "execution_count": 57,
      "outputs": [
        {
          "output_type": "stream",
          "text": [
            "/usr/local/lib/python3.6/dist-packages/tensorflow/python/framework/indexed_slices.py:434: UserWarning: Converting sparse IndexedSlices to a dense Tensor of unknown shape. This may consume a large amount of memory.\n",
            "  \"Converting sparse IndexedSlices to a dense Tensor of unknown shape. \"\n"
          ],
          "name": "stderr"
        },
        {
          "output_type": "stream",
          "text": [
            "Train on 10000 samples, validate on 1000 samples\n",
            "Epoch 1/120\n",
            "10000/10000 [==============================] - 5s 546us/step - loss: 0.9015 - accuracy: 0.5088 - val_loss: 0.6947 - val_accuracy: 0.5030\n",
            "Epoch 2/120\n",
            "10000/10000 [==============================] - 5s 465us/step - loss: 0.7049 - accuracy: 0.4949 - val_loss: 0.6949 - val_accuracy: 0.4970\n",
            "Epoch 3/120\n",
            "10000/10000 [==============================] - 5s 471us/step - loss: 0.6955 - accuracy: 0.5078 - val_loss: 0.6932 - val_accuracy: 0.5030\n",
            "Epoch 4/120\n",
            "10000/10000 [==============================] - 5s 459us/step - loss: 0.6958 - accuracy: 0.4926 - val_loss: 0.6937 - val_accuracy: 0.4970\n",
            "Epoch 5/120\n",
            "10000/10000 [==============================] - 5s 459us/step - loss: 0.6950 - accuracy: 0.4951 - val_loss: 0.6932 - val_accuracy: 0.5030\n",
            "Epoch 6/120\n",
            "10000/10000 [==============================] - 5s 454us/step - loss: 0.6948 - accuracy: 0.4994 - val_loss: 0.6941 - val_accuracy: 0.5030\n",
            "Epoch 7/120\n",
            "10000/10000 [==============================] - 5s 452us/step - loss: 0.6947 - accuracy: 0.4997 - val_loss: 0.6955 - val_accuracy: 0.4970\n",
            "Epoch 8/120\n",
            "10000/10000 [==============================] - 4s 438us/step - loss: 0.6948 - accuracy: 0.4990 - val_loss: 0.6934 - val_accuracy: 0.4970\n",
            "Epoch 9/120\n",
            "10000/10000 [==============================] - 5s 456us/step - loss: 0.6939 - accuracy: 0.5108 - val_loss: 0.6945 - val_accuracy: 0.4970\n",
            "Epoch 10/120\n",
            "10000/10000 [==============================] - 4s 433us/step - loss: 0.6932 - accuracy: 0.5084 - val_loss: 0.6945 - val_accuracy: 0.4850\n",
            "Epoch 11/120\n",
            "10000/10000 [==============================] - 5s 465us/step - loss: 0.6847 - accuracy: 0.5465 - val_loss: 0.6793 - val_accuracy: 0.5470\n",
            "Epoch 12/120\n",
            "10000/10000 [==============================] - 5s 466us/step - loss: 0.6624 - accuracy: 0.6037 - val_loss: 0.6419 - val_accuracy: 0.6680\n",
            "Epoch 13/120\n",
            "10000/10000 [==============================] - 5s 466us/step - loss: 0.6466 - accuracy: 0.6326 - val_loss: 0.6238 - val_accuracy: 0.6600\n",
            "Epoch 14/120\n",
            "10000/10000 [==============================] - 5s 480us/step - loss: 0.6318 - accuracy: 0.6498 - val_loss: 0.6166 - val_accuracy: 0.6680\n",
            "Epoch 15/120\n",
            "10000/10000 [==============================] - 5s 466us/step - loss: 0.6298 - accuracy: 0.6546 - val_loss: 0.6184 - val_accuracy: 0.6470\n",
            "Epoch 16/120\n",
            "10000/10000 [==============================] - 5s 465us/step - loss: 0.6212 - accuracy: 0.6569 - val_loss: 0.6077 - val_accuracy: 0.6680\n",
            "Epoch 17/120\n",
            "10000/10000 [==============================] - 5s 456us/step - loss: 0.6153 - accuracy: 0.6691 - val_loss: 0.6024 - val_accuracy: 0.6700\n",
            "Epoch 18/120\n",
            "10000/10000 [==============================] - 4s 449us/step - loss: 0.6098 - accuracy: 0.6694 - val_loss: 0.6016 - val_accuracy: 0.6790\n",
            "Epoch 19/120\n",
            "10000/10000 [==============================] - 5s 457us/step - loss: 0.6007 - accuracy: 0.6820 - val_loss: 0.5896 - val_accuracy: 0.6870\n",
            "Epoch 20/120\n",
            "10000/10000 [==============================] - 5s 454us/step - loss: 0.5831 - accuracy: 0.6978 - val_loss: 0.5718 - val_accuracy: 0.7190\n",
            "Epoch 21/120\n",
            "10000/10000 [==============================] - 5s 457us/step - loss: 0.5578 - accuracy: 0.7151 - val_loss: 0.5348 - val_accuracy: 0.7380\n",
            "Epoch 22/120\n",
            "10000/10000 [==============================] - 5s 464us/step - loss: 0.5336 - accuracy: 0.7347 - val_loss: 0.5029 - val_accuracy: 0.7600\n",
            "Epoch 23/120\n",
            "10000/10000 [==============================] - 4s 443us/step - loss: 0.4975 - accuracy: 0.7674 - val_loss: 0.4745 - val_accuracy: 0.7760\n",
            "Epoch 24/120\n",
            "10000/10000 [==============================] - 4s 430us/step - loss: 0.4719 - accuracy: 0.7845 - val_loss: 0.4414 - val_accuracy: 0.8080\n",
            "Epoch 25/120\n",
            "10000/10000 [==============================] - 4s 446us/step - loss: 0.4477 - accuracy: 0.8022 - val_loss: 0.4381 - val_accuracy: 0.8140\n",
            "Epoch 26/120\n",
            "10000/10000 [==============================] - 4s 430us/step - loss: 0.4290 - accuracy: 0.8135 - val_loss: 0.4337 - val_accuracy: 0.8090\n",
            "Epoch 27/120\n",
            "10000/10000 [==============================] - 4s 449us/step - loss: 0.4196 - accuracy: 0.8166 - val_loss: 0.4119 - val_accuracy: 0.8160\n",
            "Epoch 28/120\n",
            "10000/10000 [==============================] - 5s 458us/step - loss: 0.4144 - accuracy: 0.8226 - val_loss: 0.4141 - val_accuracy: 0.8200\n",
            "Epoch 29/120\n",
            "10000/10000 [==============================] - 5s 473us/step - loss: 0.3922 - accuracy: 0.8338 - val_loss: 0.3905 - val_accuracy: 0.8240\n",
            "Epoch 30/120\n",
            "10000/10000 [==============================] - 5s 461us/step - loss: 0.3851 - accuracy: 0.8374 - val_loss: 0.4160 - val_accuracy: 0.8240\n",
            "Epoch 31/120\n",
            "10000/10000 [==============================] - 5s 451us/step - loss: 0.3794 - accuracy: 0.8355 - val_loss: 0.3993 - val_accuracy: 0.8230\n",
            "Epoch 32/120\n",
            "10000/10000 [==============================] - 5s 455us/step - loss: 0.3748 - accuracy: 0.8440 - val_loss: 0.3882 - val_accuracy: 0.8280\n",
            "Epoch 33/120\n",
            "10000/10000 [==============================] - 5s 459us/step - loss: 0.3611 - accuracy: 0.8468 - val_loss: 0.4142 - val_accuracy: 0.8240\n",
            "Epoch 34/120\n",
            "10000/10000 [==============================] - 5s 455us/step - loss: 0.3525 - accuracy: 0.8494 - val_loss: 0.3796 - val_accuracy: 0.8280\n",
            "Epoch 35/120\n",
            "10000/10000 [==============================] - 4s 448us/step - loss: 0.3575 - accuracy: 0.8482 - val_loss: 0.3880 - val_accuracy: 0.8200\n",
            "Epoch 36/120\n",
            "10000/10000 [==============================] - 5s 459us/step - loss: 0.3451 - accuracy: 0.8524 - val_loss: 0.3739 - val_accuracy: 0.8370\n",
            "Epoch 37/120\n",
            "10000/10000 [==============================] - 5s 452us/step - loss: 0.3441 - accuracy: 0.8556 - val_loss: 0.3725 - val_accuracy: 0.8320\n",
            "Epoch 38/120\n",
            "10000/10000 [==============================] - 5s 450us/step - loss: 0.3383 - accuracy: 0.8560 - val_loss: 0.3687 - val_accuracy: 0.8380\n",
            "Epoch 39/120\n",
            "10000/10000 [==============================] - 5s 459us/step - loss: 0.3350 - accuracy: 0.8569 - val_loss: 0.4170 - val_accuracy: 0.8120\n",
            "Epoch 40/120\n",
            "10000/10000 [==============================] - 5s 460us/step - loss: 0.3325 - accuracy: 0.8598 - val_loss: 0.4150 - val_accuracy: 0.8270\n",
            "Epoch 41/120\n",
            "10000/10000 [==============================] - 5s 469us/step - loss: 0.3302 - accuracy: 0.8609 - val_loss: 0.3554 - val_accuracy: 0.8350\n",
            "Epoch 42/120\n",
            "10000/10000 [==============================] - 5s 477us/step - loss: 0.3267 - accuracy: 0.8630 - val_loss: 0.3598 - val_accuracy: 0.8260\n",
            "Epoch 43/120\n",
            "10000/10000 [==============================] - 5s 480us/step - loss: 0.3239 - accuracy: 0.8588 - val_loss: 0.3575 - val_accuracy: 0.8350\n",
            "Epoch 44/120\n",
            "10000/10000 [==============================] - 5s 459us/step - loss: 0.3265 - accuracy: 0.8619 - val_loss: 0.3586 - val_accuracy: 0.8360\n",
            "Epoch 45/120\n",
            "10000/10000 [==============================] - 5s 459us/step - loss: 0.3201 - accuracy: 0.8617 - val_loss: 0.3518 - val_accuracy: 0.8420\n",
            "Epoch 46/120\n",
            "10000/10000 [==============================] - 5s 461us/step - loss: 0.3137 - accuracy: 0.8671 - val_loss: 0.3573 - val_accuracy: 0.8350\n",
            "Epoch 47/120\n",
            "10000/10000 [==============================] - 5s 463us/step - loss: 0.3118 - accuracy: 0.8637 - val_loss: 0.3688 - val_accuracy: 0.8290\n",
            "Epoch 48/120\n",
            "10000/10000 [==============================] - 5s 461us/step - loss: 0.3154 - accuracy: 0.8623 - val_loss: 0.3593 - val_accuracy: 0.8370\n",
            "Epoch 49/120\n",
            "10000/10000 [==============================] - 4s 442us/step - loss: 0.3059 - accuracy: 0.8651 - val_loss: 0.3875 - val_accuracy: 0.8330\n",
            "Epoch 50/120\n",
            "10000/10000 [==============================] - 4s 449us/step - loss: 0.3109 - accuracy: 0.8648 - val_loss: 0.3791 - val_accuracy: 0.8310\n",
            "Epoch 51/120\n",
            "10000/10000 [==============================] - 5s 454us/step - loss: 0.3059 - accuracy: 0.8654 - val_loss: 0.3683 - val_accuracy: 0.8320\n",
            "Epoch 52/120\n",
            "10000/10000 [==============================] - 5s 459us/step - loss: 0.3025 - accuracy: 0.8700 - val_loss: 0.3644 - val_accuracy: 0.8420\n",
            "Epoch 53/120\n",
            "10000/10000 [==============================] - 5s 456us/step - loss: 0.3019 - accuracy: 0.8704 - val_loss: 0.3742 - val_accuracy: 0.8320\n",
            "Epoch 54/120\n",
            "10000/10000 [==============================] - 5s 477us/step - loss: 0.2988 - accuracy: 0.8685 - val_loss: 0.3588 - val_accuracy: 0.8460\n",
            "Epoch 55/120\n",
            "10000/10000 [==============================] - 5s 476us/step - loss: 0.2988 - accuracy: 0.8715 - val_loss: 0.3990 - val_accuracy: 0.8260\n",
            "Epoch 56/120\n",
            "10000/10000 [==============================] - 5s 461us/step - loss: 0.2992 - accuracy: 0.8706 - val_loss: 0.3897 - val_accuracy: 0.8440\n",
            "Epoch 57/120\n",
            "10000/10000 [==============================] - 5s 459us/step - loss: 0.2933 - accuracy: 0.8706 - val_loss: 0.3663 - val_accuracy: 0.8380\n",
            "Epoch 58/120\n",
            "10000/10000 [==============================] - 5s 459us/step - loss: 0.2901 - accuracy: 0.8732 - val_loss: 0.4082 - val_accuracy: 0.8290\n",
            "Epoch 59/120\n",
            "10000/10000 [==============================] - 5s 461us/step - loss: 0.2970 - accuracy: 0.8715 - val_loss: 0.3785 - val_accuracy: 0.8310\n",
            "Epoch 60/120\n",
            "10000/10000 [==============================] - 5s 461us/step - loss: 0.2948 - accuracy: 0.8701 - val_loss: 0.3754 - val_accuracy: 0.8330\n",
            "Epoch 61/120\n",
            "10000/10000 [==============================] - 5s 466us/step - loss: 0.2908 - accuracy: 0.8728 - val_loss: 0.3693 - val_accuracy: 0.8420\n",
            "Epoch 62/120\n",
            "10000/10000 [==============================] - 5s 464us/step - loss: 0.2897 - accuracy: 0.8714 - val_loss: 0.3785 - val_accuracy: 0.8420\n",
            "Epoch 63/120\n",
            "10000/10000 [==============================] - 5s 481us/step - loss: 0.2815 - accuracy: 0.8770 - val_loss: 0.3945 - val_accuracy: 0.8330\n",
            "Epoch 64/120\n",
            "10000/10000 [==============================] - 5s 466us/step - loss: 0.2864 - accuracy: 0.8744 - val_loss: 0.3708 - val_accuracy: 0.8360\n",
            "Epoch 65/120\n",
            "10000/10000 [==============================] - 5s 459us/step - loss: 0.2829 - accuracy: 0.8748 - val_loss: 0.4029 - val_accuracy: 0.8280\n",
            "Epoch 66/120\n",
            "10000/10000 [==============================] - 5s 463us/step - loss: 0.2844 - accuracy: 0.8744 - val_loss: 0.3739 - val_accuracy: 0.8410\n",
            "Epoch 67/120\n",
            "10000/10000 [==============================] - 5s 469us/step - loss: 0.2825 - accuracy: 0.8767 - val_loss: 0.3794 - val_accuracy: 0.8380\n",
            "Epoch 68/120\n",
            "10000/10000 [==============================] - 5s 476us/step - loss: 0.2811 - accuracy: 0.8770 - val_loss: 0.3716 - val_accuracy: 0.8390\n",
            "Epoch 69/120\n",
            "10000/10000 [==============================] - 5s 487us/step - loss: 0.2821 - accuracy: 0.8833 - val_loss: 0.4110 - val_accuracy: 0.8270\n",
            "Epoch 70/120\n",
            "10000/10000 [==============================] - 5s 481us/step - loss: 0.2757 - accuracy: 0.8793 - val_loss: 0.4019 - val_accuracy: 0.8390\n",
            "Epoch 71/120\n",
            "10000/10000 [==============================] - 5s 456us/step - loss: 0.2773 - accuracy: 0.8790 - val_loss: 0.4102 - val_accuracy: 0.8400\n",
            "Epoch 72/120\n",
            "10000/10000 [==============================] - 5s 463us/step - loss: 0.2754 - accuracy: 0.8793 - val_loss: 0.4094 - val_accuracy: 0.8350\n",
            "Epoch 73/120\n",
            "10000/10000 [==============================] - 5s 462us/step - loss: 0.2751 - accuracy: 0.8786 - val_loss: 0.4248 - val_accuracy: 0.8220\n",
            "Epoch 74/120\n",
            "10000/10000 [==============================] - 5s 469us/step - loss: 0.2743 - accuracy: 0.8805 - val_loss: 0.4070 - val_accuracy: 0.8280\n",
            "Epoch 75/120\n",
            "10000/10000 [==============================] - 5s 458us/step - loss: 0.2727 - accuracy: 0.8813 - val_loss: 0.4112 - val_accuracy: 0.8290\n",
            "Epoch 76/120\n",
            "10000/10000 [==============================] - 5s 465us/step - loss: 0.2732 - accuracy: 0.8814 - val_loss: 0.4430 - val_accuracy: 0.8380\n",
            "Epoch 77/120\n",
            "10000/10000 [==============================] - 5s 466us/step - loss: 0.2738 - accuracy: 0.8809 - val_loss: 0.3990 - val_accuracy: 0.8270\n",
            "Epoch 78/120\n",
            "10000/10000 [==============================] - 5s 464us/step - loss: 0.2685 - accuracy: 0.8852 - val_loss: 0.4073 - val_accuracy: 0.8330\n",
            "Epoch 79/120\n",
            "10000/10000 [==============================] - 5s 467us/step - loss: 0.2659 - accuracy: 0.8837 - val_loss: 0.4142 - val_accuracy: 0.8370\n",
            "Epoch 80/120\n",
            "10000/10000 [==============================] - 5s 463us/step - loss: 0.2650 - accuracy: 0.8836 - val_loss: 0.4140 - val_accuracy: 0.8300\n",
            "Epoch 81/120\n",
            "10000/10000 [==============================] - 5s 461us/step - loss: 0.2615 - accuracy: 0.8862 - val_loss: 0.4166 - val_accuracy: 0.8210\n",
            "Epoch 82/120\n",
            "10000/10000 [==============================] - 5s 453us/step - loss: 0.2636 - accuracy: 0.8866 - val_loss: 0.4062 - val_accuracy: 0.8290\n",
            "Epoch 83/120\n",
            "10000/10000 [==============================] - 5s 459us/step - loss: 0.2669 - accuracy: 0.8836 - val_loss: 0.4367 - val_accuracy: 0.8370\n",
            "Epoch 84/120\n",
            "10000/10000 [==============================] - 5s 462us/step - loss: 0.2574 - accuracy: 0.8881 - val_loss: 0.4359 - val_accuracy: 0.8410\n",
            "Epoch 85/120\n",
            "10000/10000 [==============================] - 5s 459us/step - loss: 0.2587 - accuracy: 0.8889 - val_loss: 0.4340 - val_accuracy: 0.8350\n",
            "Epoch 86/120\n",
            "10000/10000 [==============================] - 5s 457us/step - loss: 0.2591 - accuracy: 0.8895 - val_loss: 0.4546 - val_accuracy: 0.8320\n",
            "Epoch 87/120\n",
            "10000/10000 [==============================] - 5s 458us/step - loss: 0.2590 - accuracy: 0.8862 - val_loss: 0.4808 - val_accuracy: 0.8290\n",
            "Epoch 88/120\n",
            "10000/10000 [==============================] - 4s 436us/step - loss: 0.2543 - accuracy: 0.8906 - val_loss: 0.4285 - val_accuracy: 0.8320\n",
            "Epoch 89/120\n",
            "10000/10000 [==============================] - 4s 426us/step - loss: 0.2512 - accuracy: 0.8904 - val_loss: 0.4327 - val_accuracy: 0.8300\n",
            "Epoch 90/120\n",
            "10000/10000 [==============================] - 4s 434us/step - loss: 0.2515 - accuracy: 0.8919 - val_loss: 0.4577 - val_accuracy: 0.8320\n",
            "Epoch 91/120\n",
            "10000/10000 [==============================] - 4s 450us/step - loss: 0.2545 - accuracy: 0.8891 - val_loss: 0.4484 - val_accuracy: 0.8260\n",
            "Epoch 92/120\n",
            "10000/10000 [==============================] - 5s 452us/step - loss: 0.2524 - accuracy: 0.8914 - val_loss: 0.4338 - val_accuracy: 0.8260\n",
            "Epoch 93/120\n",
            "10000/10000 [==============================] - 5s 457us/step - loss: 0.2468 - accuracy: 0.8918 - val_loss: 0.4594 - val_accuracy: 0.8290\n",
            "Epoch 94/120\n",
            "10000/10000 [==============================] - 5s 455us/step - loss: 0.2453 - accuracy: 0.8925 - val_loss: 0.4543 - val_accuracy: 0.8320\n",
            "Epoch 95/120\n",
            "10000/10000 [==============================] - 5s 459us/step - loss: 0.2488 - accuracy: 0.8971 - val_loss: 0.4600 - val_accuracy: 0.8290\n",
            "Epoch 96/120\n",
            "10000/10000 [==============================] - 4s 440us/step - loss: 0.2457 - accuracy: 0.8966 - val_loss: 0.4599 - val_accuracy: 0.8290\n",
            "Epoch 97/120\n",
            "10000/10000 [==============================] - 4s 432us/step - loss: 0.2392 - accuracy: 0.8988 - val_loss: 0.4763 - val_accuracy: 0.8260\n",
            "Epoch 98/120\n",
            "10000/10000 [==============================] - 5s 453us/step - loss: 0.2463 - accuracy: 0.8978 - val_loss: 0.4514 - val_accuracy: 0.8380\n",
            "Epoch 99/120\n",
            "10000/10000 [==============================] - 4s 438us/step - loss: 0.2394 - accuracy: 0.8938 - val_loss: 0.4642 - val_accuracy: 0.8270\n",
            "Epoch 100/120\n",
            "10000/10000 [==============================] - 4s 430us/step - loss: 0.2409 - accuracy: 0.8971 - val_loss: 0.4600 - val_accuracy: 0.8350\n",
            "Epoch 101/120\n",
            "10000/10000 [==============================] - 4s 435us/step - loss: 0.2425 - accuracy: 0.8957 - val_loss: 0.5037 - val_accuracy: 0.8210\n",
            "Epoch 102/120\n",
            "10000/10000 [==============================] - 4s 435us/step - loss: 0.2415 - accuracy: 0.8968 - val_loss: 0.4830 - val_accuracy: 0.8330\n",
            "Epoch 103/120\n",
            "10000/10000 [==============================] - 4s 435us/step - loss: 0.2342 - accuracy: 0.9026 - val_loss: 0.4679 - val_accuracy: 0.8260\n",
            "Epoch 104/120\n",
            "10000/10000 [==============================] - 4s 428us/step - loss: 0.2321 - accuracy: 0.9014 - val_loss: 0.4990 - val_accuracy: 0.8250\n",
            "Epoch 105/120\n",
            "10000/10000 [==============================] - 4s 427us/step - loss: 0.2325 - accuracy: 0.9019 - val_loss: 0.4625 - val_accuracy: 0.8250\n",
            "Epoch 106/120\n",
            "10000/10000 [==============================] - 4s 422us/step - loss: 0.2397 - accuracy: 0.8970 - val_loss: 0.4533 - val_accuracy: 0.8270\n",
            "Epoch 107/120\n",
            "10000/10000 [==============================] - 4s 434us/step - loss: 0.2365 - accuracy: 0.8981 - val_loss: 0.4955 - val_accuracy: 0.8320\n",
            "Epoch 108/120\n",
            "10000/10000 [==============================] - 4s 442us/step - loss: 0.2312 - accuracy: 0.9010 - val_loss: 0.5112 - val_accuracy: 0.8250\n",
            "Epoch 109/120\n",
            "10000/10000 [==============================] - 5s 456us/step - loss: 0.2313 - accuracy: 0.9008 - val_loss: 0.5007 - val_accuracy: 0.8330\n",
            "Epoch 110/120\n",
            "10000/10000 [==============================] - 4s 444us/step - loss: 0.2327 - accuracy: 0.9014 - val_loss: 0.5221 - val_accuracy: 0.8290\n",
            "Epoch 111/120\n",
            "10000/10000 [==============================] - 4s 433us/step - loss: 0.2331 - accuracy: 0.9008 - val_loss: 0.4812 - val_accuracy: 0.8320\n",
            "Epoch 112/120\n",
            "10000/10000 [==============================] - 4s 430us/step - loss: 0.2270 - accuracy: 0.9028 - val_loss: 0.5702 - val_accuracy: 0.8230\n",
            "Epoch 113/120\n",
            "10000/10000 [==============================] - 4s 432us/step - loss: 0.2287 - accuracy: 0.9014 - val_loss: 0.4907 - val_accuracy: 0.8280\n",
            "Epoch 114/120\n",
            "10000/10000 [==============================] - 4s 431us/step - loss: 0.2260 - accuracy: 0.9048 - val_loss: 0.5006 - val_accuracy: 0.8280\n",
            "Epoch 115/120\n",
            "10000/10000 [==============================] - 4s 434us/step - loss: 0.2264 - accuracy: 0.9037 - val_loss: 0.5383 - val_accuracy: 0.8250\n",
            "Epoch 116/120\n",
            "10000/10000 [==============================] - 4s 438us/step - loss: 0.2225 - accuracy: 0.9087 - val_loss: 0.5511 - val_accuracy: 0.8280\n",
            "Epoch 117/120\n",
            "10000/10000 [==============================] - 4s 435us/step - loss: 0.2179 - accuracy: 0.9092 - val_loss: 0.5194 - val_accuracy: 0.8310\n",
            "Epoch 118/120\n",
            "10000/10000 [==============================] - 4s 432us/step - loss: 0.2272 - accuracy: 0.9044 - val_loss: 0.5468 - val_accuracy: 0.8270\n",
            "Epoch 119/120\n",
            "10000/10000 [==============================] - 4s 432us/step - loss: 0.2234 - accuracy: 0.9076 - val_loss: 0.5282 - val_accuracy: 0.8260\n",
            "Epoch 120/120\n",
            "10000/10000 [==============================] - 4s 433us/step - loss: 0.2170 - accuracy: 0.9079 - val_loss: 0.5109 - val_accuracy: 0.8220\n"
          ],
          "name": "stdout"
        }
      ]
    },
    {
      "cell_type": "code",
      "metadata": {
        "id": "yWdf7u-eNVns",
        "colab_type": "code",
        "colab": {}
      },
      "source": [
        "filename = 'chatbot_120_epochs.h5'\n",
        "model.save(filename)"
      ],
      "execution_count": 58,
      "outputs": []
    },
    {
      "cell_type": "code",
      "metadata": {
        "id": "a8DbVfHZNdTj",
        "colab_type": "code",
        "colab": {}
      },
      "source": [
        "model.load_weights(filename)\n",
        "pred_results = model.predict(([inputs_test, queries_test]))"
      ],
      "execution_count": 64,
      "outputs": []
    },
    {
      "cell_type": "code",
      "metadata": {
        "id": "MYhOemx2NmvU",
        "colab_type": "code",
        "colab": {
          "base_uri": "https://localhost:8080/",
          "height": 218
        },
        "outputId": "e061f522-b541-4997-bf49-71a985e80021"
      },
      "source": [
        "test_data[0][0]"
      ],
      "execution_count": 65,
      "outputs": [
        {
          "output_type": "execute_result",
          "data": {
            "text/plain": [
              "['Mary',\n",
              " 'got',\n",
              " 'the',\n",
              " 'milk',\n",
              " 'there',\n",
              " '.',\n",
              " 'John',\n",
              " 'moved',\n",
              " 'to',\n",
              " 'the',\n",
              " 'bedroom',\n",
              " '.']"
            ]
          },
          "metadata": {
            "tags": []
          },
          "execution_count": 65
        }
      ]
    },
    {
      "cell_type": "code",
      "metadata": {
        "id": "FJVR7cG6NnXb",
        "colab_type": "code",
        "colab": {
          "base_uri": "https://localhost:8080/",
          "height": 34
        },
        "outputId": "5b135741-970e-4f06-ac51-65b0880f4e45"
      },
      "source": [
        "story =' '.join(word for word in test_data[0][0])\n",
        "print(story)"
      ],
      "execution_count": 66,
      "outputs": [
        {
          "output_type": "stream",
          "text": [
            "Mary got the milk there . John moved to the bedroom .\n"
          ],
          "name": "stdout"
        }
      ]
    },
    {
      "cell_type": "code",
      "metadata": {
        "id": "6PhxSmnUNrmw",
        "colab_type": "code",
        "colab": {
          "base_uri": "https://localhost:8080/",
          "height": 34
        },
        "outputId": "bf76b633-462e-47ce-d224-489b5318d279"
      },
      "source": [
        "query = ' '.join(word for word in test_data[0][1])\n",
        "print(query)"
      ],
      "execution_count": 67,
      "outputs": [
        {
          "output_type": "stream",
          "text": [
            "Is John in the kitchen ?\n"
          ],
          "name": "stdout"
        }
      ]
    },
    {
      "cell_type": "code",
      "metadata": {
        "id": "DMndVxg3NttG",
        "colab_type": "code",
        "colab": {
          "base_uri": "https://localhost:8080/",
          "height": 34
        },
        "outputId": "a46da9bd-1f6f-498b-d6d0-68045c461f82"
      },
      "source": [
        "print(\"True Test Answer from Data is:\",test_data[0][2])"
      ],
      "execution_count": 68,
      "outputs": [
        {
          "output_type": "stream",
          "text": [
            "True Test Answer from Data is: no\n"
          ],
          "name": "stdout"
        }
      ]
    },
    {
      "cell_type": "code",
      "metadata": {
        "id": "_E1eIFmpNxAg",
        "colab_type": "code",
        "colab": {
          "base_uri": "https://localhost:8080/",
          "height": 50
        },
        "outputId": "f3dddc5d-e4d1-4c17-961a-25539ce1cc93"
      },
      "source": [
        "val_max = np.argmax(pred_results[0])\n",
        "\n",
        "for key, val in tokenizer.word_index.items():\n",
        "    if val == val_max:\n",
        "        k = key\n",
        "\n",
        "print(\"Predicted answer is: \", k)\n",
        "print(\"Probability of certainty was: \", pred_results[0][val_max])"
      ],
      "execution_count": 69,
      "outputs": [
        {
          "output_type": "stream",
          "text": [
            "Predicted answer is:  no\n",
            "Probability of certainty was:  0.9974075\n"
          ],
          "name": "stdout"
        }
      ]
    },
    {
      "cell_type": "code",
      "metadata": {
        "id": "B12M0mffW0Zc",
        "colab_type": "code",
        "colab": {}
      },
      "source": [
        ""
      ],
      "execution_count": null,
      "outputs": []
    }
  ]
}